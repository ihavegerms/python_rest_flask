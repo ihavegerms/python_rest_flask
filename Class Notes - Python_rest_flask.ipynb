{
 "cells": [
  {
   "cell_type": "code",
   "execution_count": 1,
   "metadata": {},
   "outputs": [
    {
     "name": "stdout",
     "output_type": "stream",
     "text": [
      "7.992000000000001\n"
     ]
    }
   ],
   "source": [
    "x = 15\n",
    "price = 9.99\n",
    "\n",
    "discount = 0.2\n",
    "\n",
    "result = price * (1 - discount)\n",
    "print(result)"
   ]
  },
  {
   "cell_type": "code",
   "execution_count": 2,
   "metadata": {},
   "outputs": [
    {
     "name": "stdout",
     "output_type": "stream",
     "text": [
      "Rolf\n"
     ]
    }
   ],
   "source": [
    "name = \"Rolf\"\n",
    "\n",
    "print(name)"
   ]
  },
  {
   "cell_type": "code",
   "execution_count": 3,
   "metadata": {},
   "outputs": [
    {
     "name": "stdout",
     "output_type": "stream",
     "text": [
      "Hello, Bob\n"
     ]
    }
   ],
   "source": [
    "name = \"Bob\"\n",
    "#greeting = \"Hello, \" + name\n",
    "greeting = f'Hello, {name}'\n",
    "\n",
    "print(greeting)"
   ]
  },
  {
   "cell_type": "code",
   "execution_count": 4,
   "metadata": {},
   "outputs": [
    {
     "name": "stdout",
     "output_type": "stream",
     "text": [
      "Hello Rolf, today is Monday.\n"
     ]
    }
   ],
   "source": [
    "longer_phrase = \"Hello {}, today is {}.\"\n",
    "formatted = longer_phrase.format(\"Rolf\", \"Monday\")\n",
    "print(formatted)"
   ]
  },
  {
   "cell_type": "code",
   "execution_count": 5,
   "metadata": {},
   "outputs": [
    {
     "name": "stdout",
     "output_type": "stream",
     "text": [
      "What is your name? bob\n",
      "Hi bob, you smell bad.\n"
     ]
    }
   ],
   "source": [
    "name = input('What is your name? ')\n",
    "print('Hi ' + name + ', you smell bad.')"
   ]
  },
  {
   "cell_type": "code",
   "execution_count": 6,
   "metadata": {},
   "outputs": [
    {
     "name": "stdout",
     "output_type": "stream",
     "text": [
      "How big is your house (in square feet): 300\n",
      "300 square feet is 27.78 square meters.\n"
     ]
    }
   ],
   "source": [
    "size_input = input('How big is your house (in square feet): ')\n",
    "square_feet = int(size_input)\n",
    "square_meters = square_feet / 10.8\n",
    "print(f\"{square_feet} square feet is {square_meters:.2f} square meters.\")"
   ]
  },
  {
   "cell_type": "code",
   "execution_count": 7,
   "metadata": {},
   "outputs": [
    {
     "name": "stdout",
     "output_type": "stream",
     "text": [
      "What is your age: 12\n",
      "Your age is 12 which is equal to 144 months.\n"
     ]
    }
   ],
   "source": [
    "user_age = input('What is your age: ')\n",
    "years = int(user_age)\n",
    "months = years * 12\n",
    "print(f\"Your age is {years} which is equal to {months} months.\")"
   ]
  },
  {
   "cell_type": "code",
   "execution_count": 8,
   "metadata": {},
   "outputs": [],
   "source": [
    "# lists can be modified... you can add/remove as needed\n",
    "l = [\"bob\", \"rolf\", \"anne\"]\n",
    "# tuples are immutable... you CANNOT add/remove as needed\n",
    "t = (\"bob\", \"rolf\", \"anne\")\n",
    "# sets are similar with the major difference being, only unique values can be in a set\n",
    "s = {\"bob\", \"rolf\", \"anne\"}\n",
    "\n"
   ]
  },
  {
   "cell_type": "code",
   "execution_count": 9,
   "metadata": {},
   "outputs": [
    {
     "name": "stdout",
     "output_type": "stream",
     "text": [
      "{'rolf', 'bob', 'anne'}\n"
     ]
    }
   ],
   "source": [
    "local = {\"bob\", \"rolf\", \"anne\"}\n",
    "abroad = {\"bob\", \"anne\"}\n",
    "\n",
    "friends = local.union(abroad)\n",
    "print(friends)"
   ]
  },
  {
   "cell_type": "code",
   "execution_count": 10,
   "metadata": {},
   "outputs": [
    {
     "name": "stdout",
     "output_type": "stream",
     "text": [
      "{'jen', 'bob'}\n"
     ]
    }
   ],
   "source": [
    "art = {\"bob\", \"jen\", \"rolf\", \"charlie\"}\n",
    "science = {'bob', 'jen', 'adam', 'anne'}\n",
    "both = art.intersection(science)\n",
    "print(both)"
   ]
  },
  {
   "cell_type": "code",
   "execution_count": 11,
   "metadata": {},
   "outputs": [
    {
     "name": "stdout",
     "output_type": "stream",
     "text": [
      "{9, 5, 12, 77}\n"
     ]
    }
   ],
   "source": [
    "my_list = [50, 49, 1]\n",
    "tuple = (2000)\n",
    "set1 = {14, 5, 9, 31, 12, 77, 67, 8}\n",
    "set2 = {5, 77, 9 ,12}\n",
    "\n",
    "print(set1.intersection(set2))"
   ]
  },
  {
   "cell_type": "code",
   "execution_count": 12,
   "metadata": {},
   "outputs": [
    {
     "name": "stdout",
     "output_type": "stream",
     "text": [
      "False\n"
     ]
    }
   ],
   "source": [
    "print(5==6)"
   ]
  },
  {
   "cell_type": "code",
   "execution_count": 13,
   "metadata": {},
   "outputs": [
    {
     "name": "stdout",
     "output_type": "stream",
     "text": [
      "[2, 6, 10]\n"
     ]
    }
   ],
   "source": [
    "numbers = [1, 3, 5]\n",
    "doubled = [num * 2 for num in numbers]\n",
    "\n",
    "print(doubled)"
   ]
  },
  {
   "cell_type": "code",
   "execution_count": 14,
   "metadata": {},
   "outputs": [
    {
     "name": "stdout",
     "output_type": "stream",
     "text": [
      "['sam', 'samantha', 'saur']\n"
     ]
    }
   ],
   "source": [
    "friends = [\"rolf\", \"sam\", 'samantha', 'saur', 'jen']\n",
    "start_s = [friend for friend in friends if friend.startswith(\"s\")]\n",
    "\n",
    "print(start_s)"
   ]
  },
  {
   "cell_type": "code",
   "execution_count": 15,
   "metadata": {},
   "outputs": [],
   "source": [
    "x = (5, 11)"
   ]
  },
  {
   "cell_type": "code",
   "execution_count": 16,
   "metadata": {},
   "outputs": [
    {
     "name": "stdout",
     "output_type": "stream",
     "text": [
      "Name: bob, Age: 42, Profession: mechanic\n",
      "Name: James, Age: 24, Profession: Artist\n",
      "Name: Harry, Age: 32, Profession: Lecturer\n"
     ]
    }
   ],
   "source": [
    "people = [(\"bob\", 42, 'mechanic'), (\"James\", 24, \"Artist\"), (\"Harry\", 32, \"Lecturer\")]\n",
    "\n",
    "for person in people:\n",
    "    print(f\"Name: {person[0]}, Age: {person[1]}, Profession: {person[2]}\")"
   ]
  },
  {
   "cell_type": "code",
   "execution_count": 17,
   "metadata": {},
   "outputs": [
    {
     "name": "stdout",
     "output_type": "stream",
     "text": [
      "hello\n"
     ]
    }
   ],
   "source": [
    "def hello():\n",
    "    print('hello')\n",
    "\n",
    "    \n",
    "hello()"
   ]
  },
  {
   "cell_type": "code",
   "execution_count": 18,
   "metadata": {},
   "outputs": [],
   "source": [
    "def user_age_in_seconds():\n",
    "    print(\"Welcome to the age in seconds program!\")\n",
    "    user_age = int(input('What is your age: '))\n",
    "    age_seconds = user_age * 365 * 24 * 60 * 60\n",
    "    print(f\"Your age in seconds is {age_seconds}.\")\n",
    "    print(\"Goodbye Sucka!\")\n",
    "    \n",
    "    "
   ]
  },
  {
   "cell_type": "code",
   "execution_count": 19,
   "metadata": {},
   "outputs": [
    {
     "name": "stdout",
     "output_type": "stream",
     "text": [
      "Welcome to the age in seconds program!\n",
      "What is your age: 15\n",
      "Your age in seconds is 473040000.\n",
      "Goodbye Sucka!\n"
     ]
    }
   ],
   "source": [
    "user_age_in_seconds()"
   ]
  },
  {
   "cell_type": "code",
   "execution_count": 20,
   "metadata": {},
   "outputs": [
    {
     "name": "stdout",
     "output_type": "stream",
     "text": [
      "8\n",
      "Hello Dumbface Bob!\n"
     ]
    }
   ],
   "source": [
    "def add(x,y):\n",
    "    result = x + y\n",
    "    print(result)\n",
    "\n",
    "add(5, 3)\n",
    "\n",
    "\n",
    "def say_hello(name, surname):\n",
    "    print(f\"Hello {name} {surname}!\")\n",
    "    \n",
    "say_hello(surname=\"Bob\", name=\"Dumbface\")"
   ]
  },
  {
   "cell_type": "code",
   "execution_count": 21,
   "metadata": {},
   "outputs": [
    {
     "name": "stdout",
     "output_type": "stream",
     "text": [
      "8.5\n"
     ]
    }
   ],
   "source": [
    "def divide(dividend, divisor):\n",
    "    if divisor != 0:\n",
    "        print(dividend / divisor)\n",
    "    else:\n",
    "        print(\"You fool! Cut out your tounge...\")\n",
    "        \n",
    "divide(dividend=17,divisor=2)"
   ]
  },
  {
   "cell_type": "code",
   "execution_count": 22,
   "metadata": {},
   "outputs": [
    {
     "name": "stdout",
     "output_type": "stream",
     "text": [
      "13\n",
      "13\n",
      "None\n"
     ]
    }
   ],
   "source": [
    "default_y = 3\n",
    "\n",
    "def add(x, y=default_y):\n",
    "    sum = x + y\n",
    "    print(sum)\n",
    "\n",
    "add(5,8)\n",
    "result = add(5,8)\n",
    "print(result)"
   ]
  },
  {
   "cell_type": "code",
   "execution_count": 23,
   "metadata": {},
   "outputs": [
    {
     "name": "stdout",
     "output_type": "stream",
     "text": [
      "12\n"
     ]
    }
   ],
   "source": [
    "add = lambda x, y: x+y\n",
    "print(add(5,7))"
   ]
  },
  {
   "cell_type": "code",
   "execution_count": 24,
   "metadata": {},
   "outputs": [
    {
     "name": "stdout",
     "output_type": "stream",
     "text": [
      "[2, 6, 10, 18]\n"
     ]
    }
   ],
   "source": [
    "def double(x):\n",
    "    return x * 2\n",
    "\n",
    "sequence = [1, 3, 5, 9]\n",
    "\n",
    "doubled = map(double, sequence)\n",
    "doubled2 = [double(x) for x in sequence]\n",
    "doubled3 = list(map(lambda x: x * 2, sequence))\n",
    "\n",
    "print(doubled3)"
   ]
  },
  {
   "cell_type": "code",
   "execution_count": 27,
   "metadata": {},
   "outputs": [
    {
     "name": "stdout",
     "output_type": "stream",
     "text": [
      "(0, 'Bob', 'password')\n",
      "Enter your username: bob\n",
      "Enter your password: password\n"
     ]
    },
    {
     "ename": "NameError",
     "evalue": "name 'username' is not defined",
     "output_type": "error",
     "traceback": [
      "\u001b[0;31m---------------------------------------------------------------------------\u001b[0m",
      "\u001b[0;31mNameError\u001b[0m                                 Traceback (most recent call last)",
      "\u001b[0;32m<ipython-input-27-ed9b5b934978>\u001b[0m in \u001b[0;36m<module>\u001b[0;34m\u001b[0m\n\u001b[1;32m     16\u001b[0m \u001b[0mpassword_input\u001b[0m \u001b[0;34m=\u001b[0m \u001b[0minput\u001b[0m\u001b[0;34m(\u001b[0m\u001b[0;34m'Enter your password: '\u001b[0m\u001b[0;34m)\u001b[0m\u001b[0;34m\u001b[0m\u001b[0;34m\u001b[0m\u001b[0m\n\u001b[1;32m     17\u001b[0m \u001b[0;34m\u001b[0m\u001b[0m\n\u001b[0;32m---> 18\u001b[0;31m \u001b[0m_\u001b[0m\u001b[0;34m,\u001b[0m \u001b[0musername\u001b[0m\u001b[0;34m,\u001b[0m \u001b[0mpassword\u001b[0m \u001b[0;34m==\u001b[0m \u001b[0musername_mapping\u001b[0m\u001b[0;34m[\u001b[0m\u001b[0musername_input\u001b[0m\u001b[0;34m]\u001b[0m\u001b[0;34m\u001b[0m\u001b[0;34m\u001b[0m\u001b[0m\n\u001b[0m\u001b[1;32m     19\u001b[0m \u001b[0;34m\u001b[0m\u001b[0m\n\u001b[1;32m     20\u001b[0m \u001b[0;32mif\u001b[0m \u001b[0mpassword_input\u001b[0m \u001b[0;34m==\u001b[0m \u001b[0mpassword\u001b[0m\u001b[0;34m:\u001b[0m\u001b[0;34m\u001b[0m\u001b[0;34m\u001b[0m\u001b[0m\n",
      "\u001b[0;31mNameError\u001b[0m: name 'username' is not defined"
     ]
    }
   ],
   "source": [
    "users = [\n",
    "(0, \"Bob\", \"password\"),\n",
    "(1, \"Rolf\", \"bob123\"),\n",
    "(2, \"Jose\", \"long4assword\"),\n",
    "(3, \"username\", \"1234\"),\n",
    "]\n",
    "\n",
    "username_mapping = {user[1]: user for user in users}\n",
    "print(username_mapping[\"Bob\"])\n",
    "\n",
    "#for user in users:\n",
    "#    if user[1] == 'Bob':\n",
    "#        print(user)\n",
    "\n",
    "username_input = input('Enter your username: ')\n",
    "password_input = input('Enter your password: ')\n",
    "\n",
    "_, username, password == username_mapping[username_input]\n",
    "\n",
    "if password_input == password:\n",
    "    print('Your details are correct!')\n",
    "else:\n",
    "    print('You suck at passwords.')"
   ]
  },
  {
   "cell_type": "code",
   "execution_count": 30,
   "metadata": {},
   "outputs": [
    {
     "name": "stdout",
     "output_type": "stream",
     "text": [
      "(1, 3, 5)\n",
      "15\n"
     ]
    }
   ],
   "source": [
    "def multiply(*args):\n",
    "    print(args)\n",
    "    total = 1\n",
    "    for arg in args:\n",
    "        total = total * arg\n",
    "        \n",
    "    return total\n",
    "    \n",
    "print(multiply(1, 3, 5))"
   ]
  },
  {
   "cell_type": "code",
   "execution_count": 39,
   "metadata": {},
   "outputs": [
    {
     "name": "stdout",
     "output_type": "stream",
     "text": [
      "40\n"
     ]
    }
   ],
   "source": [
    "def add(x, y):\n",
    "    return x + y\n",
    "\n",
    "nums = {\"x\": 15, \"y\": 25}\n",
    "#print(add(x=nums[\"x\"], y=nums[\"y\"])) \n",
    "print(add(**nums))"
   ]
  },
  {
   "cell_type": "code",
   "execution_count": 42,
   "metadata": {},
   "outputs": [
    {
     "name": "stdout",
     "output_type": "stream",
     "text": [
      "126\n"
     ]
    }
   ],
   "source": [
    "def multiply(*args):\n",
    "    total = 1\n",
    "    for arg in args:\n",
    "        total = total * arg\n",
    "        \n",
    "    return total\n",
    "\n",
    "def apply(*args, operator):\n",
    "    if operator == \"*\":\n",
    "        return multiply(*args)\n",
    "    elif operator == \"+\":\n",
    "        return sum(args)\n",
    "    else:\n",
    "        return \"No valid operator provided to apply().\"\n",
    "    \n",
    "print(apply(1, 3, 6 ,7, operator=\"*\"))"
   ]
  },
  {
   "cell_type": "code",
   "execution_count": 3,
   "metadata": {},
   "outputs": [
    {
     "name": "stdout",
     "output_type": "stream",
     "text": [
      "88.0\n"
     ]
    },
    {
     "ename": "AttributeError",
     "evalue": "'dict' object has no attribute 'average'",
     "output_type": "error",
     "traceback": [
      "\u001b[0;31m---------------------------------------------------------------------------\u001b[0m",
      "\u001b[0;31mAttributeError\u001b[0m                            Traceback (most recent call last)",
      "\u001b[0;32m<ipython-input-3-0e8063df021d>\u001b[0m in \u001b[0;36m<module>\u001b[0;34m\u001b[0m\n\u001b[1;32m      5\u001b[0m \u001b[0;34m\u001b[0m\u001b[0m\n\u001b[1;32m      6\u001b[0m \u001b[0mprint\u001b[0m\u001b[0;34m(\u001b[0m\u001b[0maverage\u001b[0m\u001b[0;34m(\u001b[0m\u001b[0mstudent\u001b[0m\u001b[0;34m[\u001b[0m\u001b[0;34m\"grades\"\u001b[0m\u001b[0;34m]\u001b[0m\u001b[0;34m)\u001b[0m\u001b[0;34m)\u001b[0m\u001b[0;34m\u001b[0m\u001b[0;34m\u001b[0m\u001b[0m\n\u001b[0;32m----> 7\u001b[0;31m \u001b[0mprint\u001b[0m\u001b[0;34m(\u001b[0m\u001b[0mstudent\u001b[0m\u001b[0;34m.\u001b[0m\u001b[0maverage\u001b[0m\u001b[0;34m(\u001b[0m\u001b[0;34m)\u001b[0m\u001b[0;34m)\u001b[0m\u001b[0;34m\u001b[0m\u001b[0;34m\u001b[0m\u001b[0m\n\u001b[0m",
      "\u001b[0;31mAttributeError\u001b[0m: 'dict' object has no attribute 'average'"
     ]
    }
   ],
   "source": [
    "student = {\"name\": \"Rolf\", \"grades\": (89, 90, 93, 78, 90)}\n",
    "\n",
    "def average(sequence):\n",
    "    return sum(sequence) / len(sequence)\n",
    "\n",
    "print(average(student[\"grades\"]))\n",
    "print(student.average())"
   ]
  },
  {
   "cell_type": "code",
   "execution_count": 5,
   "metadata": {},
   "outputs": [
    {
     "name": "stdout",
     "output_type": "stream",
     "text": [
      "Rolf\n"
     ]
    }
   ],
   "source": [
    "class Student:\n",
    "    def __init__(self):\n",
    "        self.name = \"Rolf\"\n",
    "        \n",
    "student = Student()\n",
    "print(student.name)"
   ]
  },
  {
   "cell_type": "code",
   "execution_count": 1,
   "metadata": {},
   "outputs": [
    {
     "name": "stdout",
     "output_type": "stream",
     "text": [
      "25\n",
      "25\n",
      "25\n",
      "17\n"
     ]
    }
   ],
   "source": [
    "a = 25\n",
    "b = a\n",
    "print(a)\n",
    "print(b)\n",
    "\n",
    "b = 17\n",
    "\n",
    "print(a)\n",
    "print(b)"
   ]
  },
  {
   "cell_type": "code",
   "execution_count": 3,
   "metadata": {},
   "outputs": [
    {
     "name": "stdout",
     "output_type": "stream",
     "text": [
      "Hello, Rolf. Today is Monday.\n"
     ]
    }
   ],
   "source": [
    "longer_phrase = \"Hello, {}. Today is {}.\"\n",
    "formatted = longer_phrase.format(\"Rolf\", \"Monday\")\n",
    "\n",
    "print(formatted)"
   ]
  },
  {
   "cell_type": "code",
   "execution_count": 5,
   "metadata": {},
   "outputs": [
    {
     "name": "stdout",
     "output_type": "stream",
     "text": [
      "What is your name sucka? Dode\n",
      "Dode\n"
     ]
    }
   ],
   "source": [
    "name = input('What is your name sucka? ')\n",
    "print(name)"
   ]
  },
  {
   "cell_type": "code",
   "execution_count": 20,
   "metadata": {},
   "outputs": [
    {
     "name": "stdout",
     "output_type": "stream",
     "text": [
      "how big is your house (in sq ft.)? 500\n",
      "500 square feet is 46.30 square meters.\n"
     ]
    }
   ],
   "source": [
    "size_input = input(\"how big is your house (in sq ft.)? \")\n",
    "square_feet = int(size_input)\n",
    "square_meter = square_feet / 10.8\n",
    "print(f\"{square_feet} square feet is {square_meter:.2f} square meters.\")"
   ]
  },
  {
   "cell_type": "code",
   "execution_count": 4,
   "metadata": {},
   "outputs": [
    {
     "name": "stdout",
     "output_type": "stream",
     "text": [
      "How old are you? 36\n",
      "Your age, 36, is equal to 432 months.\n",
      "Your age, 36, is equal to 1135296000 seconds.\n"
     ]
    }
   ],
   "source": [
    "age = int(input(\"How old are you? \"))\n",
    "months = age * 12\n",
    "seconds = age * (365*24*60*60) \n",
    "#print('You are ' + str(age) + ' years old. Which means you are ' + str(months) + ' months old.')\n",
    "print(f\"Your age, {age}, is equal to {months} months.\")\n",
    "print(f\"Your age, {age}, is equal to {seconds} seconds.\")"
   ]
  },
  {
   "cell_type": "code",
   "execution_count": null,
   "metadata": {},
   "outputs": [],
   "source": []
  }
 ],
 "metadata": {
  "kernelspec": {
   "display_name": "Python 3",
   "language": "python",
   "name": "python3"
  },
  "language_info": {
   "codemirror_mode": {
    "name": "ipython",
    "version": 3
   },
   "file_extension": ".py",
   "mimetype": "text/x-python",
   "name": "python",
   "nbconvert_exporter": "python",
   "pygments_lexer": "ipython3",
   "version": "3.7.3"
  }
 },
 "nbformat": 4,
 "nbformat_minor": 2
}
